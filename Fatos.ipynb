{
 "cells": [
  {
   "cell_type": "code",
   "execution_count": 1,
   "id": "1696c975",
   "metadata": {},
   "outputs": [],
   "source": [
    "import pandas as pd\n",
    "import numpy as np\n",
    "import matplotlib.pyplot as plt\n",
    "from datetime import datetime\n",
    "from sklearn.preprocessing import MinMaxScaler\n",
    "from sklearn.model_selection import train_test_split\n",
    "from sklearn.ensemble import RandomForestRegressor\n",
    "from sklearn.metrics import mean_squared_error , r2_score\n",
    "from sklearn.linear_model import LinearRegression"
   ]
  },
  {
   "cell_type": "code",
   "execution_count": 2,
   "id": "983a0c2e",
   "metadata": {},
   "outputs": [],
   "source": [
    "df = pd.read_csv(r\"C:\\Users\\fatma\\Downloads\\data.csv\")"
   ]
  },
  {
   "cell_type": "code",
   "execution_count": 3,
   "id": "dc1ef3db",
   "metadata": {},
   "outputs": [],
   "source": [
    "import pandas as pd\n",
    "\n",
    "# Assuming your dataframe is named 'df' and it has columns 'ORDER_ID' and 'CATEGORY'\n",
    "\n",
    "# Step 1: Group by ORDER_ID and aggregate categories\n",
    "grouped = df.groupby('ORDER_ID')['Category'].unique().reset_index()\n",
    "\n",
    "# Step 2: Convert array of unique categories to comma-separated string\n",
    "grouped['Unique_Categories'] = grouped['Category'].apply(lambda x: ', '.join(sorted(x)))\n",
    "\n",
    "# Step 3: Drop the 'CATEGORY' column if you no longer need it\n",
    "grouped.drop(columns=['Category'], inplace=True)\n",
    "\n",
    "# Merge the unique categories back to the original dataframe based on ORDER_ID\n",
    "df = pd.merge(df, grouped, on='ORDER_ID', how='left')"
   ]
  },
  {
   "cell_type": "code",
   "execution_count": 4,
   "id": "64f4f65d",
   "metadata": {},
   "outputs": [],
   "source": [
    "filtered_df = pd.read_csv(r\"C:\\Users\\fatma\\Desktop\\final.csv\", sep=';')"
   ]
  },
  {
   "cell_type": "code",
   "execution_count": 5,
   "id": "a1ac4b7c",
   "metadata": {},
   "outputs": [],
   "source": [
    "filtered_df1 = df[df['ORDER_ID'].isin(filtered_df['ORDER_ID'])]"
   ]
  },
  {
   "cell_type": "code",
   "execution_count": 6,
   "id": "f3038191",
   "metadata": {},
   "outputs": [],
   "source": [
    "df['CAMPAIGN'] = df['CAMPAIGN'].fillna('Other')\n",
    "df['DATE'] = pd.to_datetime(df['DATE'])"
   ]
  },
  {
   "cell_type": "code",
   "execution_count": 7,
   "id": "d4513382",
   "metadata": {},
   "outputs": [],
   "source": [
    "filtered_df['Basket Revenue'] = filtered_df['Basket Revenue'].str.replace(',', '.').astype(float)"
   ]
  },
  {
   "cell_type": "code",
   "execution_count": 8,
   "id": "eaa13af3",
   "metadata": {},
   "outputs": [],
   "source": [
    "df_left_joined = pd.merge(filtered_df1, filtered_df[['Basket Revenue','ORDER_ID']], on='ORDER_ID', how='left')"
   ]
  },
  {
   "cell_type": "code",
   "execution_count": 9,
   "id": "f9415ccd",
   "metadata": {},
   "outputs": [
    {
     "data": {
      "text/html": [
       "<div>\n",
       "<style scoped>\n",
       "    .dataframe tbody tr th:only-of-type {\n",
       "        vertical-align: middle;\n",
       "    }\n",
       "\n",
       "    .dataframe tbody tr th {\n",
       "        vertical-align: top;\n",
       "    }\n",
       "\n",
       "    .dataframe thead th {\n",
       "        text-align: right;\n",
       "    }\n",
       "</style>\n",
       "<table border=\"1\" class=\"dataframe\">\n",
       "  <thead>\n",
       "    <tr style=\"text-align: right;\">\n",
       "      <th></th>\n",
       "      <th>CARGO_ID</th>\n",
       "      <th>ORDER_ID</th>\n",
       "      <th>SUB_CATEGORY_CODE</th>\n",
       "      <th>QTY</th>\n",
       "      <th>DESI</th>\n",
       "      <th>Total_Price</th>\n",
       "      <th>Unit_Price</th>\n",
       "      <th>Revenue</th>\n",
       "      <th>Unit_SHF</th>\n",
       "      <th>Real_SHC</th>\n",
       "      <th>Basket Revenue</th>\n",
       "    </tr>\n",
       "  </thead>\n",
       "  <tbody>\n",
       "    <tr>\n",
       "      <th>count</th>\n",
       "      <td>3.263200e+05</td>\n",
       "      <td>3.263200e+05</td>\n",
       "      <td>3.263200e+05</td>\n",
       "      <td>326320.000000</td>\n",
       "      <td>326320.000000</td>\n",
       "      <td>326320.000000</td>\n",
       "      <td>326320.000000</td>\n",
       "      <td>326320.000000</td>\n",
       "      <td>326320.000000</td>\n",
       "      <td>326320.000000</td>\n",
       "      <td>326320.000000</td>\n",
       "    </tr>\n",
       "    <tr>\n",
       "      <th>mean</th>\n",
       "      <td>1.225276e+06</td>\n",
       "      <td>8.209845e+07</td>\n",
       "      <td>2.034830e+04</td>\n",
       "      <td>1.446715</td>\n",
       "      <td>4.163701</td>\n",
       "      <td>205.189388</td>\n",
       "      <td>202.886299</td>\n",
       "      <td>231.240752</td>\n",
       "      <td>2.303090</td>\n",
       "      <td>3.186202</td>\n",
       "      <td>368.052055</td>\n",
       "    </tr>\n",
       "    <tr>\n",
       "      <th>std</th>\n",
       "      <td>7.042840e+05</td>\n",
       "      <td>2.396630e+07</td>\n",
       "      <td>1.206385e+06</td>\n",
       "      <td>3.523313</td>\n",
       "      <td>5.902089</td>\n",
       "      <td>518.095102</td>\n",
       "      <td>516.718828</td>\n",
       "      <td>801.406292</td>\n",
       "      <td>4.001711</td>\n",
       "      <td>4.292301</td>\n",
       "      <td>1259.168718</td>\n",
       "    </tr>\n",
       "    <tr>\n",
       "      <th>min</th>\n",
       "      <td>6.000000e+00</td>\n",
       "      <td>1.000049e+07</td>\n",
       "      <td>1.300000e+01</td>\n",
       "      <td>1.000000</td>\n",
       "      <td>0.010000</td>\n",
       "      <td>0.160000</td>\n",
       "      <td>0.160000</td>\n",
       "      <td>1.010000</td>\n",
       "      <td>0.000000</td>\n",
       "      <td>0.007086</td>\n",
       "      <td>1.020000</td>\n",
       "    </tr>\n",
       "    <tr>\n",
       "      <th>25%</th>\n",
       "      <td>6.186368e+05</td>\n",
       "      <td>7.999021e+07</td>\n",
       "      <td>5.290000e+02</td>\n",
       "      <td>1.000000</td>\n",
       "      <td>1.000000</td>\n",
       "      <td>15.780000</td>\n",
       "      <td>13.980000</td>\n",
       "      <td>18.430000</td>\n",
       "      <td>0.000000</td>\n",
       "      <td>1.281506</td>\n",
       "      <td>60.920000</td>\n",
       "    </tr>\n",
       "    <tr>\n",
       "      <th>50%</th>\n",
       "      <td>1.226392e+06</td>\n",
       "      <td>9.299426e+07</td>\n",
       "      <td>3.045000e+03</td>\n",
       "      <td>1.000000</td>\n",
       "      <td>2.000000</td>\n",
       "      <td>35.020000</td>\n",
       "      <td>33.810000</td>\n",
       "      <td>42.400000</td>\n",
       "      <td>0.000000</td>\n",
       "      <td>2.390622</td>\n",
       "      <td>115.410000</td>\n",
       "    </tr>\n",
       "    <tr>\n",
       "      <th>75%</th>\n",
       "      <td>1.834700e+06</td>\n",
       "      <td>9.650024e+07</td>\n",
       "      <td>3.463000e+03</td>\n",
       "      <td>1.000000</td>\n",
       "      <td>5.000000</td>\n",
       "      <td>75.042500</td>\n",
       "      <td>71.950000</td>\n",
       "      <td>101.640000</td>\n",
       "      <td>3.940000</td>\n",
       "      <td>3.733110</td>\n",
       "      <td>219.600000</td>\n",
       "    </tr>\n",
       "    <tr>\n",
       "      <th>max</th>\n",
       "      <td>2.444520e+06</td>\n",
       "      <td>9.999998e+07</td>\n",
       "      <td>8.012203e+07</td>\n",
       "      <td>998.000000</td>\n",
       "      <td>170.000000</td>\n",
       "      <td>20592.370000</td>\n",
       "      <td>20592.370000</td>\n",
       "      <td>168331.780000</td>\n",
       "      <td>98.050000</td>\n",
       "      <td>908.399330</td>\n",
       "      <td>175596.480000</td>\n",
       "    </tr>\n",
       "  </tbody>\n",
       "</table>\n",
       "</div>"
      ],
      "text/plain": [
       "           CARGO_ID      ORDER_ID  SUB_CATEGORY_CODE            QTY  \\\n",
       "count  3.263200e+05  3.263200e+05       3.263200e+05  326320.000000   \n",
       "mean   1.225276e+06  8.209845e+07       2.034830e+04       1.446715   \n",
       "std    7.042840e+05  2.396630e+07       1.206385e+06       3.523313   \n",
       "min    6.000000e+00  1.000049e+07       1.300000e+01       1.000000   \n",
       "25%    6.186368e+05  7.999021e+07       5.290000e+02       1.000000   \n",
       "50%    1.226392e+06  9.299426e+07       3.045000e+03       1.000000   \n",
       "75%    1.834700e+06  9.650024e+07       3.463000e+03       1.000000   \n",
       "max    2.444520e+06  9.999998e+07       8.012203e+07     998.000000   \n",
       "\n",
       "                DESI    Total_Price     Unit_Price        Revenue  \\\n",
       "count  326320.000000  326320.000000  326320.000000  326320.000000   \n",
       "mean        4.163701     205.189388     202.886299     231.240752   \n",
       "std         5.902089     518.095102     516.718828     801.406292   \n",
       "min         0.010000       0.160000       0.160000       1.010000   \n",
       "25%         1.000000      15.780000      13.980000      18.430000   \n",
       "50%         2.000000      35.020000      33.810000      42.400000   \n",
       "75%         5.000000      75.042500      71.950000     101.640000   \n",
       "max       170.000000   20592.370000   20592.370000  168331.780000   \n",
       "\n",
       "            Unit_SHF       Real_SHC  Basket Revenue  \n",
       "count  326320.000000  326320.000000   326320.000000  \n",
       "mean        2.303090       3.186202      368.052055  \n",
       "std         4.001711       4.292301     1259.168718  \n",
       "min         0.000000       0.007086        1.020000  \n",
       "25%         0.000000       1.281506       60.920000  \n",
       "50%         0.000000       2.390622      115.410000  \n",
       "75%         3.940000       3.733110      219.600000  \n",
       "max        98.050000     908.399330   175596.480000  "
      ]
     },
     "execution_count": 9,
     "metadata": {},
     "output_type": "execute_result"
    }
   ],
   "source": [
    "df_left_joined.describe()"
   ]
  },
  {
   "cell_type": "code",
   "execution_count": 10,
   "id": "42a1005f",
   "metadata": {},
   "outputs": [],
   "source": [
    "def create_near_100_feature(df, column_name='Revenue', bandwidth=2):\n",
    "    near_100_column = f'Near_{100-bandwidth}_to_{100+bandwidth}'\n",
    "    df[near_100_column] = ((df[column_name] >= (100 - bandwidth)) & \n",
    "                            (df[column_name] <= (100 + bandwidth))).astype(int)\n",
    "    return df\n",
    "\n",
    "# Now we'll use our function to add the 'Near_100' feature to this dataframe.\n",
    "df_left_joined = create_near_100_feature(df_left_joined)"
   ]
  },
  {
   "cell_type": "code",
   "execution_count": 11,
   "id": "e17631b2",
   "metadata": {},
   "outputs": [],
   "source": [
    "def enhance_data_with_shipping_info(df, threshold=100):\n",
    "    \n",
    "    # Absolute distance from the threshold\n",
    "    df['Distance_From_Threshold'] = abs(df['Revenue'] - threshold)\n",
    "    \n",
    "    # Proximity to threshold: Below, At, or Above\n",
    "    df['Proximity_To_Threshold'] = pd.cut(df['Revenue'],\n",
    "                                          bins=[-np.inf, threshold - 1, threshold, np.inf],\n",
    "                                          labels=['Below_Threshold', 'At_Threshold', 'Above_Threshold'])\n",
    "\n",
    "    return df\n",
    "\n",
    "df_left_joined = enhance_data_with_shipping_info(df_left_joined)"
   ]
  },
  {
   "cell_type": "code",
   "execution_count": 12,
   "id": "2f015e7e",
   "metadata": {},
   "outputs": [],
   "source": [
    "def create_sliding_window_features(df, column, windows):\n",
    "    for window in windows:\n",
    "        # Create a new column name for the window\n",
    "        window_col_name = f\"{column}_{window[0]}_to_{window[1]}\"\n",
    "        # Create a binary feature where 1 indicates the value falls within the current window\n",
    "        df[window_col_name] = df[column].apply(lambda x: 1 if window[0] <= x < window[1] else 0)\n",
    "    \n",
    "    return df\n",
    "\n",
    "# Define your price range windows\n",
    "price_windows = [(60, 80), (80, 100), (100, 120), (120, 140)]\n",
    "\n",
    "# Apply the function to your dataframe\n",
    "# This assumes 'df' is the DataFrame and 'Basket_Revenue' is the column we're interested in.\n",
    "# Replace 'df' and 'Basket_Revenue' with your actual DataFrame and column name.\n",
    "df_left_joined = create_sliding_window_features(df_left_joined, 'Basket Revenue', price_windows)"
   ]
  },
  {
   "cell_type": "code",
   "execution_count": 13,
   "id": "5a5f0b55",
   "metadata": {},
   "outputs": [],
   "source": [
    "def filter_outliers(df, columns):\n",
    "    for column in columns:\n",
    "        Q1 = df[column].quantile(0.25)\n",
    "        Q3 = df[column].quantile(0.75)\n",
    "        IQR = Q3 - Q1\n",
    "        lower_bound = Q1 - 1.5 * IQR\n",
    "        upper_bound = Q3 + 1.5 * IQR\n",
    "        if column == 'Basket Revenue':\n",
    "            upper_bound = 4000\n",
    "        df = df[(df[column] >= lower_bound) & (df[column] <= upper_bound)]\n",
    "    return df\n",
    "df_left_joined = filter_outliers(df_left_joined, ['Basket Revenue', 'Unit_SHF', 'Real_SHC', 'DESI', 'QTY', 'Unit_Price',])"
   ]
  },
  {
   "cell_type": "code",
   "execution_count": 14,
   "id": "2cf1a11c",
   "metadata": {},
   "outputs": [
    {
     "data": {
      "image/png": "[encoded data removed]",
      "text/plain": [
       "<Figure size 600x400 with 1 Axes>"
      ]
     },
     "metadata": {},
     "output_type": "display_data"
    }
   ],
   "source": [
    "plt.figure(figsize=(6, 4))\n",
    "plt.hist(df_left_joined['Basket Revenue'], bins=500,color='skyblue')\n",
    "plt.title('Histogram of Basket Revenue')\n",
    "plt.xlabel('Revenue')\n",
    "plt.ylabel('Frequency')\n",
    "plt.grid(axis='y', alpha=0.75)\n",
    "plt.xlim(0,1000)\n",
    "plt.show()"
   ]
  },
  {
   "cell_type": "code",
   "execution_count": 15,
   "id": "0cc504c6",
   "metadata": {},
   "outputs": [],
   "source": [
    "columns_to_remove = ['CARGO_ID', 'SUB_CATEGORY_CODE', \n",
    "                     'SKU', 'SHIPPING_COMPANY', 'PRODUCT_NAME', 'Revenue','DATE','QTY','Total_Price', 'ORDER_ID','SUB_CATEGORY']\n",
    "new_df = df_left_joined.drop(columns=columns_to_remove)"
   ]
  },
  {
   "cell_type": "code",
   "execution_count": 16,
   "id": "9e767fcf",
   "metadata": {},
   "outputs": [],
   "source": [
    "df_encoded = pd.get_dummies(new_df, columns=['Weekend', 'Seller','FreeSH', 'CFreeSH','CAMPAIGN', 'Category','Unique_Categories','Proximity_To_Threshold'])"
   ]
  },
  {
   "cell_type": "code",
   "execution_count": 17,
   "id": "60b11c73",
   "metadata": {},
   "outputs": [],
   "source": [
    "# Columns to scale\n",
    "columns_to_scale = ['DESI','Unit_Price','Unit_SHF', 'Real_SHC', 'Distance_From_Threshold']\n",
    "\n",
    "# Initialize MinMaxScaler\n",
    "scaler = MinMaxScaler()\n",
    "\n",
    "# Fit and transform the specified columns\n",
    "df_encoded[columns_to_scale] = scaler.fit_transform(df_encoded[columns_to_scale])"
   ]
  },
  {
   "cell_type": "code",
   "execution_count": 18,
   "id": "2f5a1caa",
   "metadata": {},
   "outputs": [
    {
     "data": {
      "text/html": [
       "<div>\n",
       "<style scoped>\n",
       "    .dataframe tbody tr th:only-of-type {\n",
       "        vertical-align: middle;\n",
       "    }\n",
       "\n",
       "    .dataframe tbody tr th {\n",
       "        vertical-align: top;\n",
       "    }\n",
       "\n",
       "    .dataframe thead th {\n",
       "        text-align: right;\n",
       "    }\n",
       "</style>\n",
       "<table border=\"1\" class=\"dataframe\">\n",
       "  <thead>\n",
       "    <tr style=\"text-align: right;\">\n",
       "      <th></th>\n",
       "      <th>DESI</th>\n",
       "      <th>Unit_Price</th>\n",
       "      <th>Unit_SHF</th>\n",
       "      <th>Real_SHC</th>\n",
       "      <th>Basket Revenue</th>\n",
       "      <th>Near_98_to_102</th>\n",
       "      <th>Distance_From_Threshold</th>\n",
       "      <th>Basket Revenue_60_to_80</th>\n",
       "      <th>Basket Revenue_80_to_100</th>\n",
       "      <th>Basket Revenue_100_to_120</th>\n",
       "      <th>...</th>\n",
       "      <th>Unique_Categories_PET</th>\n",
       "      <th>Unique_Categories_PET, TEL1</th>\n",
       "      <th>Unique_Categories_PET, TEL1, TEL2</th>\n",
       "      <th>Unique_Categories_PET, TEL2</th>\n",
       "      <th>Unique_Categories_TEL1</th>\n",
       "      <th>Unique_Categories_TEL1, TEL2</th>\n",
       "      <th>Unique_Categories_TEL2</th>\n",
       "      <th>Proximity_To_Threshold_Below_Threshold</th>\n",
       "      <th>Proximity_To_Threshold_At_Threshold</th>\n",
       "      <th>Proximity_To_Threshold_Above_Threshold</th>\n",
       "    </tr>\n",
       "  </thead>\n",
       "  <tbody>\n",
       "    <tr>\n",
       "      <th>1</th>\n",
       "      <td>0.101643</td>\n",
       "      <td>0.015172</td>\n",
       "      <td>0.523858</td>\n",
       "      <td>0.323185</td>\n",
       "      <td>8.12</td>\n",
       "      <td>0</td>\n",
       "      <td>0.928175</td>\n",
       "      <td>0</td>\n",
       "      <td>0</td>\n",
       "      <td>0</td>\n",
       "      <td>...</td>\n",
       "      <td>1</td>\n",
       "      <td>0</td>\n",
       "      <td>0</td>\n",
       "      <td>0</td>\n",
       "      <td>0</td>\n",
       "      <td>0</td>\n",
       "      <td>0</td>\n",
       "      <td>1</td>\n",
       "      <td>0</td>\n",
       "      <td>0</td>\n",
       "    </tr>\n",
       "    <tr>\n",
       "      <th>2</th>\n",
       "      <td>0.204312</td>\n",
       "      <td>0.511943</td>\n",
       "      <td>0.000000</td>\n",
       "      <td>0.829076</td>\n",
       "      <td>109.96</td>\n",
       "      <td>0</td>\n",
       "      <td>0.335286</td>\n",
       "      <td>0</td>\n",
       "      <td>0</td>\n",
       "      <td>1</td>\n",
       "      <td>...</td>\n",
       "      <td>0</td>\n",
       "      <td>0</td>\n",
       "      <td>0</td>\n",
       "      <td>0</td>\n",
       "      <td>0</td>\n",
       "      <td>0</td>\n",
       "      <td>0</td>\n",
       "      <td>1</td>\n",
       "      <td>0</td>\n",
       "      <td>0</td>\n",
       "    </tr>\n",
       "    <tr>\n",
       "      <th>3</th>\n",
       "      <td>0.717659</td>\n",
       "      <td>0.327861</td>\n",
       "      <td>0.000000</td>\n",
       "      <td>0.944877</td>\n",
       "      <td>109.96</td>\n",
       "      <td>0</td>\n",
       "      <td>0.574300</td>\n",
       "      <td>0</td>\n",
       "      <td>0</td>\n",
       "      <td>1</td>\n",
       "      <td>...</td>\n",
       "      <td>0</td>\n",
       "      <td>0</td>\n",
       "      <td>0</td>\n",
       "      <td>0</td>\n",
       "      <td>0</td>\n",
       "      <td>0</td>\n",
       "      <td>0</td>\n",
       "      <td>1</td>\n",
       "      <td>0</td>\n",
       "      <td>0</td>\n",
       "    </tr>\n",
       "    <tr>\n",
       "      <th>4</th>\n",
       "      <td>0.101643</td>\n",
       "      <td>0.084416</td>\n",
       "      <td>0.523858</td>\n",
       "      <td>0.279655</td>\n",
       "      <td>17.02</td>\n",
       "      <td>0</td>\n",
       "      <td>0.838266</td>\n",
       "      <td>0</td>\n",
       "      <td>0</td>\n",
       "      <td>0</td>\n",
       "      <td>...</td>\n",
       "      <td>0</td>\n",
       "      <td>0</td>\n",
       "      <td>0</td>\n",
       "      <td>0</td>\n",
       "      <td>0</td>\n",
       "      <td>0</td>\n",
       "      <td>0</td>\n",
       "      <td>1</td>\n",
       "      <td>0</td>\n",
       "      <td>0</td>\n",
       "    </tr>\n",
       "    <tr>\n",
       "      <th>5</th>\n",
       "      <td>0.101643</td>\n",
       "      <td>0.084416</td>\n",
       "      <td>0.000000</td>\n",
       "      <td>0.394094</td>\n",
       "      <td>11.86</td>\n",
       "      <td>0</td>\n",
       "      <td>0.890393</td>\n",
       "      <td>0</td>\n",
       "      <td>0</td>\n",
       "      <td>0</td>\n",
       "      <td>...</td>\n",
       "      <td>1</td>\n",
       "      <td>0</td>\n",
       "      <td>0</td>\n",
       "      <td>0</td>\n",
       "      <td>0</td>\n",
       "      <td>0</td>\n",
       "      <td>0</td>\n",
       "      <td>1</td>\n",
       "      <td>0</td>\n",
       "      <td>0</td>\n",
       "    </tr>\n",
       "  </tbody>\n",
       "</table>\n",
       "<p>5 rows × 62 columns</p>\n",
       "</div>"
      ],
      "text/plain": [
       "       DESI  Unit_Price  Unit_SHF  Real_SHC  Basket Revenue  Near_98_to_102  \\\n",
       "1  0.101643    0.015172  0.523858  0.323185            8.12               0   \n",
       "2  0.204312    0.511943  0.000000  0.829076          109.96               0   \n",
       "3  0.717659    0.327861  0.000000  0.944877          109.96               0   \n",
       "4  0.101643    0.084416  0.523858  0.279655           17.02               0   \n",
       "5  0.101643    0.084416  0.000000  0.394094           11.86               0   \n",
       "\n",
       "   Distance_From_Threshold  Basket Revenue_60_to_80  Basket Revenue_80_to_100  \\\n",
       "1                 0.928175                        0                         0   \n",
       "2                 0.335286                        0                         0   \n",
       "3                 0.574300                        0                         0   \n",
       "4                 0.838266                        0                         0   \n",
       "5                 0.890393                        0                         0   \n",
       "\n",
       "   Basket Revenue_100_to_120  ...  Unique_Categories_PET  \\\n",
       "1                          0  ...                      1   \n",
       "2                          1  ...                      0   \n",
       "3                          1  ...                      0   \n",
       "4                          0  ...                      0   \n",
       "5                          0  ...                      1   \n",
       "\n",
       "   Unique_Categories_PET, TEL1  Unique_Categories_PET, TEL1, TEL2  \\\n",
       "1                            0                                  0   \n",
       "2                            0                                  0   \n",
       "3                            0                                  0   \n",
       "4                            0                                  0   \n",
       "5                            0                                  0   \n",
       "\n",
       "   Unique_Categories_PET, TEL2  Unique_Categories_TEL1  \\\n",
       "1                            0                       0   \n",
       "2                            0                       0   \n",
       "3                            0                       0   \n",
       "4                            0                       0   \n",
       "5                            0                       0   \n",
       "\n",
       "   Unique_Categories_TEL1, TEL2  Unique_Categories_TEL2  \\\n",
       "1                             0                       0   \n",
       "2                             0                       0   \n",
       "3                             0                       0   \n",
       "4                             0                       0   \n",
       "5                             0                       0   \n",
       "\n",
       "   Proximity_To_Threshold_Below_Threshold  \\\n",
       "1                                       1   \n",
       "2                                       1   \n",
       "3                                       1   \n",
       "4                                       1   \n",
       "5                                       1   \n",
       "\n",
       "   Proximity_To_Threshold_At_Threshold  Proximity_To_Threshold_Above_Threshold  \n",
       "1                                    0                                       0  \n",
       "2                                    0                                       0  \n",
       "3                                    0                                       0  \n",
       "4                                    0                                       0  \n",
       "5                                    0                                       0  \n",
       "\n",
       "[5 rows x 62 columns]"
      ]
     },
     "execution_count": 18,
     "metadata": {},
     "output_type": "execute_result"
    }
   ],
   "source": [
    "df_encoded.head()"
   ]
  },
  {
   "cell_type": "code",
   "execution_count": 19,
   "id": "91bc86d7",
   "metadata": {},
   "outputs": [],
   "source": [
    "from sklearn.model_selection import StratifiedShuffleSplit\n",
    "\n",
    "# Assuming 'df' is your DataFrame and 'continuous_feature' is the name of your continuous column.\n",
    "# Replace these with your actual DataFrame and column names.\n",
    "df.reset_index(drop=True, inplace=True)\n",
    "\n",
    "# Bin the continuous feature into quartiles or another number of bins that makes sense for your data\n",
    "df_encoded['feature_bins'] = pd.qcut(df_encoded['Unit_Price'], q=10, duplicates='drop')\n",
    "# Initialize StratifiedShuffleSplit\n",
    "sss = StratifiedShuffleSplit(n_splits=1, test_size=0.3, random_state=42)\n",
    "\n",
    "# Perform the split\n",
    "for train_index, test_index in sss.split(df_encoded, df_encoded['feature_bins']):\n",
    "    X_train = df_encoded.iloc[train_index].drop(['Basket Revenue', 'feature_bins'], axis=1)\n",
    "    X_test = df_encoded.iloc[test_index].drop(['Basket Revenue', 'feature_bins'], axis=1)\n",
    "    y_train = df_encoded.iloc[train_index]['Basket Revenue']\n",
    "    y_test = df_encoded.iloc[test_index]['Basket Revenue']"
   ]
  },
  {
   "cell_type": "code",
   "execution_count": 22,
   "id": "e9963529",
   "metadata": {},
   "outputs": [
    {
     "data": {
      "image/png": "[encoded data removed]",
      "text/plain": [
       "<Figure size 1000x600 with 1 Axes>"
      ]
     },
     "metadata": {},
     "output_type": "display_data"
    }
   ],
   "source": [
    "plt.figure(figsize=(10, 6))\n",
    "plt.hist(df_encoded['Basket Revenue'], bins=500, color='skyblue')\n",
    "plt.axvline(100, color='red', linewidth=3)\n",
    "plt.title('Histogram of Predicted Revenues')\n",
    "plt.xlabel('Revenue')\n",
    "plt.ylabel('Frequency')\n",
    "plt.grid(axis='y', alpha=0.75)\n",
    "plt.xlim(0,400)\n",
    "plt.show()"
   ]
  },
  {
   "cell_type": "code",
   "execution_count": 49,
   "id": "4efa1b34",
   "metadata": {},
   "outputs": [
    {
     "name": "stdout",
     "output_type": "stream",
     "text": [
      "0:\tlearn: 327.8331934\ttotal: 178ms\tremaining: 17.6s\n",
      "10:\tlearn: 228.6853956\ttotal: 283ms\tremaining: 2.29s\n",
      "20:\tlearn: 208.7885017\ttotal: 373ms\tremaining: 1.4s\n",
      "30:\tlearn: 203.6724427\ttotal: 472ms\tremaining: 1.05s\n",
      "40:\tlearn: 201.4003361\ttotal: 561ms\tremaining: 807ms\n",
      "50:\tlearn: 199.7253398\ttotal: 648ms\tremaining: 622ms\n",
      "60:\tlearn: 198.7987313\ttotal: 737ms\tremaining: 471ms\n",
      "70:\tlearn: 197.9267078\ttotal: 829ms\tremaining: 338ms\n",
      "80:\tlearn: 196.9203487\ttotal: 921ms\tremaining: 216ms\n",
      "90:\tlearn: 196.2812187\ttotal: 1.01s\tremaining: 99.9ms\n",
      "99:\tlearn: 195.5697394\ttotal: 1.11s\tremaining: 0us\n",
      "Mean Squared Error on Training Set: 38247.52289155118\n"
     ]
    }
   ],
   "source": [
    "from catboost import CatBoostRegressor\n",
    "# Define the CatBoost regressor\n",
    "reg = CatBoostRegressor(iterations=100, learning_rate=0.1, depth=6, loss_function='RMSE')\n",
    "\n",
    "# Train the regressor\n",
    "reg.fit(X_train, y_train, verbose=10)\n",
    "y_train_pred = reg.predict(X_train)\n",
    "train_mse = mean_squared_error(y_train, y_train_pred)\n",
    "print(\"Mean Squared Error on Training Set:\", train_mse)\n",
    "\n",
    "# Make predictions on the testing set\n",
    "y_pred = reg.predict(X_test)\n",
    "\n",
    "# Evaluate the model\n",
    "mse = mean_squared_error(y_test, y_pred)"
   ]
  },
  {
   "cell_type": "code",
   "execution_count": 53,
   "id": "9294c8c0",
   "metadata": {},
   "outputs": [
    {
     "data": {
      "image/png": "[encoded data removed]",
      "text/plain": [
       "<Figure size 1000x600 with 1 Axes>"
      ]
     },
     "metadata": {},
     "output_type": "display_data"
    }
   ],
   "source": [
    "plt.figure(figsize=(10, 6))\n",
    "plt.hist(y_train_pred, bins=500, color='skyblue')\n",
    "plt.hist(y_train, bins=500, color='red', alpha=0.5, label='Actual')\n",
    "plt.title('Histogram of Predicted Revenues')\n",
    "plt.xlabel('Revenue')\n",
    "plt.ylabel('Frequency')\n",
    "plt.grid(axis='y', alpha=0.75)\n",
    "plt.xlim(0,1000)\n",
    "plt.show()"
   ]
  },
  {
   "cell_type": "code",
   "execution_count": 26,
   "id": "98702930",
   "metadata": {},
   "outputs": [
    {
     "name": "stdout",
     "output_type": "stream",
     "text": [
      "Training MSE: 47153.26178272328\n",
      "Testing MSE: 48589.23972368594\n",
      "Training R^2: 0.6124643481640468\n",
      "Testing R^2: 0.6065496441235101\n"
     ]
    }
   ],
   "source": [
    "# Initialize the model\n",
    "model = LinearRegression()\n",
    "\n",
    "# Fit the model on the training data\n",
    "model.fit(X_train, y_train)\n",
    "\n",
    "# Make predictions on training and testing data\n",
    "y_train_pred = model.predict(X_train)\n",
    "y_test_pred = model.predict(X_test)\n",
    "\n",
    "# Calculate MSE for training and testing data\n",
    "mse_train = mean_squared_error(y_train, y_train_pred)\n",
    "mse_test = mean_squared_error(y_test, y_test_pred)\n",
    "\n",
    "print(\"Training MSE:\", mse_train)\n",
    "print(\"Testing MSE:\", mse_test)\n",
    "\n",
    "# Calculate R^2 for training and testing data\n",
    "r2_train = r2_score(y_train, y_train_pred)\n",
    "r2_test = r2_score(y_test, y_test_pred)\n",
    "\n",
    "print(\"Training R^2:\", r2_train)\n",
    "print(\"Testing R^2:\", r2_test)\n"
   ]
  },
  {
   "cell_type": "code",
   "execution_count": 27,
   "id": "f2616220",
   "metadata": {},
   "outputs": [
    {
     "data": {
      "image/png": "[encoded data removed]",
      "text/plain": [
       "<Figure size 1000x600 with 1 Axes>"
      ]
     },
     "metadata": {},
     "output_type": "display_data"
    }
   ],
   "source": [
    "plt.figure(figsize=(10, 6))\n",
    "plt.hist(y_test_pred, bins=100, color='skyblue')\n",
    "plt.hist(y_test, bins=100, color='red', alpha=0.5, label='Actual')\n",
    "plt.title('Histogram of Predicted Revenues')\n",
    "plt.xlabel('Revenue')\n",
    "plt.ylabel('Frequency')\n",
    "plt.grid(axis='y', alpha=0.75)\n",
    "plt.xlim(0,1000)\n",
    "plt.show()"
   ]
  },
  {
   "cell_type": "code",
   "execution_count": 30,
   "id": "22a548f4",
   "metadata": {},
   "outputs": [
    {
     "name": "stdout",
     "output_type": "stream",
     "text": [
      "Ridge Regression:\n",
      "Training MSE: 47153.29749479797\n",
      "Testing MSE: 48589.20761498149\n",
      "Training R^2: 0.6124640546593854\n",
      "Testing R^2: 0.6065499041230751\n"
     ]
    }
   ],
   "source": [
    "from sklearn.linear_model import Ridge\n",
    "\n",
    "# Initialize Ridge regression model with regularization parameter alpha\n",
    "ridge_model = Ridge(alpha=0.01)\n",
    "\n",
    "# Fit the Ridge model on the training data\n",
    "ridge_model.fit(X_train, y_train)\n",
    "\n",
    "# Make predictions on training and testing data\n",
    "y_train_pred_ridge = ridge_model.predict(X_train)\n",
    "y_test_pred_ridge = ridge_model.predict(X_test)\n",
    "\n",
    "# Calculate MSE and R^2 for training and testing data with Ridge regression\n",
    "mse_train_ridge = mean_squared_error(y_train, y_train_pred_ridge)\n",
    "mse_test_ridge = mean_squared_error(y_test, y_test_pred_ridge)\n",
    "r2_train_ridge = r2_score(y_train, y_train_pred_ridge)\n",
    "r2_test_ridge = r2_score(y_test, y_test_pred_ridge)\n",
    "\n",
    "print(\"Ridge Regression:\")\n",
    "print(\"Training MSE:\", mse_train_ridge)\n",
    "print(\"Testing MSE:\", mse_test_ridge)\n",
    "print(\"Training R^2:\", r2_train_ridge)\n",
    "print(\"Testing R^2:\", r2_test_ridge)\n"
   ]
  },
  {
   "cell_type": "code",
   "execution_count": 46,
   "id": "aaec632a",
   "metadata": {},
   "outputs": [
    {
     "data": {
      "image/png": "[encoded data removed]",
      "text/plain": [
       "<Figure size 1000x600 with 1 Axes>"
      ]
     },
     "metadata": {},
     "output_type": "display_data"
    }
   ],
   "source": [
    "plt.figure(figsize=(10, 6))\n",
    "plt.hist(y_test_pred_ridge, bins=100, color='skyblue')\n",
    "plt.hist(y_test, bins=100, color='red', alpha=0.5, label='Actual')\n",
    "plt.title('Histogram of Predicted Revenues')\n",
    "plt.xlabel('Revenue')\n",
    "plt.ylabel('Frequency')\n",
    "plt.grid(axis='y', alpha=0.75)\n",
    "plt.xlim(0,500)\n",
    "plt.show()"
   ]
  },
  {
   "cell_type": "code",
   "execution_count": 43,
   "id": "00fb0911",
   "metadata": {},
   "outputs": [
    {
     "name": "stdout",
     "output_type": "stream",
     "text": [
      "XGBoost Regression:\n",
      "Training MSE: 28818.43851607709\n",
      "Testing MSE: 35937.84975721859\n",
      "Training R^2: 0.7631516477760562\n",
      "Testing R^2: 0.7089940106735045\n"
     ]
    }
   ],
   "source": [
    "import xgboost as xgb\n",
    "\n",
    "# Initialize XGBoost regressor\n",
    "xgb_model = xgb.XGBRegressor(objective ='reg:squarederror', \n",
    "                              colsample_bytree = 0.9, \n",
    "                              learning_rate = 0.1,\n",
    "                              max_depth = 5, \n",
    "                              alpha = 100, \n",
    "                              n_estimators = 500)\n",
    "\n",
    "# Fit the XGBoost model on the training data\n",
    "xgb_model.fit(X_train, y_train)\n",
    "\n",
    "# Make predictions on training and testing data\n",
    "y_train_pred_xgb = xgb_model.predict(X_train)\n",
    "y_test_pred_xgb = xgb_model.predict(X_test)\n",
    "\n",
    "# Calculate MSE and R^2 for training and testing data with XGBoost\n",
    "mse_train_xgb = mean_squared_error(y_train, y_train_pred_xgb)\n",
    "mse_test_xgb = mean_squared_error(y_test, y_test_pred_xgb)\n",
    "r2_train_xgb = r2_score(y_train, y_train_pred_xgb)\n",
    "r2_test_xgb = r2_score(y_test, y_test_pred_xgb)\n",
    "\n",
    "print(\"XGBoost Regression:\")\n",
    "print(\"Training MSE:\", mse_train_xgb)\n",
    "print(\"Testing MSE:\", mse_test_xgb)\n",
    "print(\"Training R^2:\", r2_train_xgb)\n",
    "print(\"Testing R^2:\", r2_test_xgb)"
   ]
  },
  {
   "cell_type": "code",
   "execution_count": 44,
   "id": "cfd1e455",
   "metadata": {},
   "outputs": [
    {
     "data": {
      "image/png": "[encoded data removed]",
      "text/plain": [
       "<Figure size 1000x600 with 1 Axes>"
      ]
     },
     "metadata": {},
     "output_type": "display_data"
    }
   ],
   "source": [
    "plt.figure(figsize=(10, 6))\n",
    "plt.hist(y_test_pred_xgb, bins=100, color='skyblue')\n",
    "plt.hist(y_test, bins=100, color='red', alpha=0.5, label='Actual')\n",
    "plt.title('Histogram of Predicted Revenues')\n",
    "plt.xlabel('Revenue')\n",
    "plt.ylabel('Frequency')\n",
    "plt.grid(axis='y', alpha=0.75)\n",
    "plt.xlim(0,500)\n",
    "plt.show()"
   ]
  },
  {
   "cell_type": "code",
   "execution_count": 31,
   "id": "4bfeb5f7",
   "metadata": {},
   "outputs": [
    {
     "name": "stdout",
     "output_type": "stream",
     "text": [
      "Support Vector Regression:\n",
      "Training MSE: 73461.49819783808\n",
      "Testing MSE: 75202.11256526102\n",
      "Training R^2: 0.3962464416538888\n",
      "Testing R^2: 0.39105246100316515\n"
     ]
    }
   ],
   "source": [
    "from sklearn.svm import SVR\n",
    "from sklearn.metrics import mean_squared_error, r2_score\n",
    "\n",
    "# Initialize Support Vector Regressor\n",
    "svr_model = SVR(kernel='rbf', C=1.0, epsilon=0.1)\n",
    "\n",
    "# Fit the SVR model on the training data (using the same training data from XGBoost example)\n",
    "svr_model.fit(X_train, y_train)\n",
    "\n",
    "# Make predictions on training and testing data\n",
    "y_train_pred_svr = svr_model.predict(X_train)\n",
    "y_test_pred_svr = svr_model.predict(X_test)\n",
    "\n",
    "# Calculate MSE and R^2 for training and testing data with SVR\n",
    "mse_train_svr = mean_squared_error(y_train, y_train_pred_svr)\n",
    "mse_test_svr = mean_squared_error(y_test, y_test_pred_svr)\n",
    "r2_train_svr = r2_score(y_train, y_train_pred_svr)\n",
    "r2_test_svr = r2_score(y_test, y_test_pred_svr)\n",
    "\n",
    "print(\"Support Vector Regression:\")\n",
    "print(\"Training MSE:\", mse_train_svr)\n",
    "print(\"Testing MSE:\", mse_test_svr)\n",
    "print(\"Training R^2:\", r2_train_svr)\n",
    "print(\"Testing R^2:\", r2_test_svr)"
   ]
  }
 ],
 "metadata": {
  "kernelspec": {
   "display_name": "Python 3 (ipykernel)",
   "language": "python",
   "name": "python3"
  },
  "language_info": {
   "codemirror_mode": {
    "name": "ipython",
    "version": 3
   },
   "file_extension": ".py",
   "mimetype": "text/x-python",
   "name": "python",
   "nbconvert_exporter": "python",
   "pygments_lexer": "ipython3",
   "version": "3.11.3"
  }
 },
 "nbformat": 4,
 "nbformat_minor": 5
}
